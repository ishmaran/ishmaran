{
  "nbformat": 4,
  "nbformat_minor": 0,
  "metadata": {
    "colab": {
      "provenance": [],
      "authorship_tag": "ABX9TyNCbNfHpUXmGeBlEF426XvW",
      "include_colab_link": true
    },
    "kernelspec": {
      "name": "python3",
      "display_name": "Python 3"
    },
    "language_info": {
      "name": "python"
    }
  },
  "cells": [
    {
      "cell_type": "markdown",
      "metadata": {
        "id": "view-in-github",
        "colab_type": "text"
      },
      "source": [
        "<a href=\"https://colab.research.google.com/github/ishmaran/ishmaran/blob/main/cure.ipynb\" target=\"_parent\"><img src=\"https://colab.research.google.com/assets/colab-badge.svg\" alt=\"Open In Colab\"/></a>"
      ]
    },
    {
      "cell_type": "code",
      "execution_count": null,
      "metadata": {
        "id": "h5TdvELkbpWy"
      },
      "outputs": [],
      "source": [
        "import json\n",
        "\n",
        "# Read the JSON file\n",
        "with open('cure.json', 'r') as file:\n",
        "    cure_data = json.load(file)\n",
        "\n",
        "# Disease names for which we want to extract cure information\n",
        "target_diseases = [\"tomato mosaic virus\", \"tomato target spot\"]\n",
        "\n",
        "# Extract cure information for the target diseases\n",
        "for disease in target_diseases:\n",
        "    if disease in cure_data:\n",
        "        cure_info = cure_data[disease]\n",
        "        print(f\"Disease: {disease}\")\n",
        "        print(f\"Cure Information: {cure_info}\")\n",
        "        print()\n",
        "    else:\n",
        "        print(f\"No information found for {disease} in the cure data.\")\n"
      ]
    }
  ]
}